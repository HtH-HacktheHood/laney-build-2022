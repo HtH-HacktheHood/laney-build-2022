{
 "cells": [
  {
   "cell_type": "code",
   "execution_count": null,
   "id": "557105c3",
   "metadata": {},
   "outputs": [],
   "source": [
    "''' in this top cell, I always like to have my imports seperate from the rest of my code! I will also include any \n",
    "functionality that only relates to the setup of these imports\n",
    "'''\n",
    "\n",
    "import pandas as pd\n",
    "\n",
    "pd.options.display.max_columns = None\n",
    "pd.options.display.max_rows = None"
   ]
  },
  {
   "cell_type": "code",
   "execution_count": null,
   "id": "73fc2543",
   "metadata": {},
   "outputs": [],
   "source": [
    "# Step 1: We want to import our csv file and view our dataset\n",
    "\n"
   ]
  }
 ],
 "metadata": {
  "kernelspec": {
   "display_name": "Python 3 (ipykernel)",
   "language": "python",
   "name": "python3"
  },
  "language_info": {
   "codemirror_mode": {
    "name": "ipython",
    "version": 3
   },
   "file_extension": ".py",
   "mimetype": "text/x-python",
   "name": "python",
   "nbconvert_exporter": "python",
   "pygments_lexer": "ipython3",
   "version": "3.9.6"
  }
 },
 "nbformat": 4,
 "nbformat_minor": 5
}
