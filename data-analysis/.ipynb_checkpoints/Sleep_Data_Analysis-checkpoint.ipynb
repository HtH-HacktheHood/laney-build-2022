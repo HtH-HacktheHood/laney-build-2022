{
 "cells": [
  {
   "cell_type": "code",
   "execution_count": 1,
   "id": "557105c3",
   "metadata": {},
   "outputs": [],
   "source": [
    "''' in this top cell, I always like to have my imports seperate from the rest of my code! I will also include any \n",
    "functionality that only relates to the setup of these imports\n",
    "'''\n",
    "\n",
    "import pandas\n",
    "import matplotlib.pyplot as plt\n",
    "import seaborn as sns\n",
    "\n",
    "# pandas.options.display.max_columns = None\n",
    "# pandas.options.display.max_rows = None"
   ]
  },
  {
   "cell_type": "code",
   "execution_count": 2,
   "id": "6bd9adbd",
   "metadata": {
    "scrolled": true
   },
   "outputs": [
    {
     "data": {
      "text/html": [
       "<div>\n",
       "<style scoped>\n",
       "    .dataframe tbody tr th:only-of-type {\n",
       "        vertical-align: middle;\n",
       "    }\n",
       "\n",
       "    .dataframe tbody tr th {\n",
       "        vertical-align: top;\n",
       "    }\n",
       "\n",
       "    .dataframe thead th {\n",
       "        text-align: right;\n",
       "    }\n",
       "</style>\n",
       "<table border=\"1\" class=\"dataframe\">\n",
       "  <thead>\n",
       "    <tr style=\"text-align: right;\">\n",
       "      <th></th>\n",
       "      <th>sr</th>\n",
       "      <th>rr</th>\n",
       "      <th>t</th>\n",
       "      <th>lm</th>\n",
       "      <th>bo</th>\n",
       "      <th>rem</th>\n",
       "      <th>sr.1</th>\n",
       "      <th>hr</th>\n",
       "      <th>sl</th>\n",
       "    </tr>\n",
       "  </thead>\n",
       "  <tbody>\n",
       "    <tr>\n",
       "      <th>0</th>\n",
       "      <td>93.800</td>\n",
       "      <td>25.680</td>\n",
       "      <td>91.840</td>\n",
       "      <td>16.600</td>\n",
       "      <td>89.840</td>\n",
       "      <td>99.60</td>\n",
       "      <td>1.840</td>\n",
       "      <td>74.20</td>\n",
       "      <td>3</td>\n",
       "    </tr>\n",
       "    <tr>\n",
       "      <th>1</th>\n",
       "      <td>91.640</td>\n",
       "      <td>25.104</td>\n",
       "      <td>91.552</td>\n",
       "      <td>15.880</td>\n",
       "      <td>89.552</td>\n",
       "      <td>98.88</td>\n",
       "      <td>1.552</td>\n",
       "      <td>72.76</td>\n",
       "      <td>3</td>\n",
       "    </tr>\n",
       "    <tr>\n",
       "      <th>2</th>\n",
       "      <td>60.000</td>\n",
       "      <td>20.000</td>\n",
       "      <td>96.000</td>\n",
       "      <td>10.000</td>\n",
       "      <td>95.000</td>\n",
       "      <td>85.00</td>\n",
       "      <td>7.000</td>\n",
       "      <td>60.00</td>\n",
       "      <td>1</td>\n",
       "    </tr>\n",
       "    <tr>\n",
       "      <th>3</th>\n",
       "      <td>85.760</td>\n",
       "      <td>23.536</td>\n",
       "      <td>90.768</td>\n",
       "      <td>13.920</td>\n",
       "      <td>88.768</td>\n",
       "      <td>96.92</td>\n",
       "      <td>0.768</td>\n",
       "      <td>68.84</td>\n",
       "      <td>3</td>\n",
       "    </tr>\n",
       "    <tr>\n",
       "      <th>4</th>\n",
       "      <td>48.120</td>\n",
       "      <td>17.248</td>\n",
       "      <td>97.872</td>\n",
       "      <td>6.496</td>\n",
       "      <td>96.248</td>\n",
       "      <td>72.48</td>\n",
       "      <td>8.248</td>\n",
       "      <td>53.12</td>\n",
       "      <td>0</td>\n",
       "    </tr>\n",
       "    <tr>\n",
       "      <th>...</th>\n",
       "      <td>...</td>\n",
       "      <td>...</td>\n",
       "      <td>...</td>\n",
       "      <td>...</td>\n",
       "      <td>...</td>\n",
       "      <td>...</td>\n",
       "      <td>...</td>\n",
       "      <td>...</td>\n",
       "      <td>...</td>\n",
       "    </tr>\n",
       "    <tr>\n",
       "      <th>625</th>\n",
       "      <td>69.600</td>\n",
       "      <td>20.960</td>\n",
       "      <td>92.960</td>\n",
       "      <td>10.960</td>\n",
       "      <td>90.960</td>\n",
       "      <td>89.80</td>\n",
       "      <td>3.440</td>\n",
       "      <td>62.40</td>\n",
       "      <td>2</td>\n",
       "    </tr>\n",
       "    <tr>\n",
       "      <th>626</th>\n",
       "      <td>48.440</td>\n",
       "      <td>17.376</td>\n",
       "      <td>98.064</td>\n",
       "      <td>6.752</td>\n",
       "      <td>96.376</td>\n",
       "      <td>73.76</td>\n",
       "      <td>8.376</td>\n",
       "      <td>53.44</td>\n",
       "      <td>0</td>\n",
       "    </tr>\n",
       "    <tr>\n",
       "      <th>627</th>\n",
       "      <td>97.504</td>\n",
       "      <td>27.504</td>\n",
       "      <td>86.880</td>\n",
       "      <td>17.752</td>\n",
       "      <td>84.256</td>\n",
       "      <td>101.88</td>\n",
       "      <td>0.000</td>\n",
       "      <td>78.76</td>\n",
       "      <td>4</td>\n",
       "    </tr>\n",
       "    <tr>\n",
       "      <th>628</th>\n",
       "      <td>58.640</td>\n",
       "      <td>19.728</td>\n",
       "      <td>95.728</td>\n",
       "      <td>9.728</td>\n",
       "      <td>94.592</td>\n",
       "      <td>84.32</td>\n",
       "      <td>6.728</td>\n",
       "      <td>59.32</td>\n",
       "      <td>1</td>\n",
       "    </tr>\n",
       "    <tr>\n",
       "      <th>629</th>\n",
       "      <td>73.920</td>\n",
       "      <td>21.392</td>\n",
       "      <td>93.392</td>\n",
       "      <td>11.392</td>\n",
       "      <td>91.392</td>\n",
       "      <td>91.96</td>\n",
       "      <td>4.088</td>\n",
       "      <td>63.48</td>\n",
       "      <td>2</td>\n",
       "    </tr>\n",
       "  </tbody>\n",
       "</table>\n",
       "<p>630 rows × 9 columns</p>\n",
       "</div>"
      ],
      "text/plain": [
       "         sr      rr       t      lm      bo     rem   sr.1     hr  sl\n",
       "0    93.800  25.680  91.840  16.600  89.840   99.60  1.840  74.20   3\n",
       "1    91.640  25.104  91.552  15.880  89.552   98.88  1.552  72.76   3\n",
       "2    60.000  20.000  96.000  10.000  95.000   85.00  7.000  60.00   1\n",
       "3    85.760  23.536  90.768  13.920  88.768   96.92  0.768  68.84   3\n",
       "4    48.120  17.248  97.872   6.496  96.248   72.48  8.248  53.12   0\n",
       "..      ...     ...     ...     ...     ...     ...    ...    ...  ..\n",
       "625  69.600  20.960  92.960  10.960  90.960   89.80  3.440  62.40   2\n",
       "626  48.440  17.376  98.064   6.752  96.376   73.76  8.376  53.44   0\n",
       "627  97.504  27.504  86.880  17.752  84.256  101.88  0.000  78.76   4\n",
       "628  58.640  19.728  95.728   9.728  94.592   84.32  6.728  59.32   1\n",
       "629  73.920  21.392  93.392  11.392  91.392   91.96  4.088  63.48   2\n",
       "\n",
       "[630 rows x 9 columns]"
      ]
     },
     "execution_count": 2,
     "metadata": {},
     "output_type": "execute_result"
    }
   ],
   "source": [
    "# Step 1: We want to import our csv file and view our dataset\n",
    "\n",
    "sleep_data = pandas.read_csv(\"SaYoPillow.csv\")\n",
    "\n",
    "sleep_data"
   ]
  },
  {
   "cell_type": "code",
   "execution_count": 3,
   "id": "e9ed3794",
   "metadata": {
    "collapsed": true
   },
   "outputs": [
    {
     "data": {
      "text/plain": [
       "' Pandas: first what is a dataframe? A dataframe is just another term for a dataset and it is the key word used in pandas. There is no distinguishing features to remember, nothing \"special\" -- (more technical def: it is a user defined data structure that is the foundation of the pandas library, used to represent datasets)\\n\\nYou can access any individual piece of data in any row of your dataset. If you use a combination of square bracket notation (like what we used to access keys in a dictionary) and indexing (like when we are accessing data within a list). \\n        Ex) sleep_data[\"t\"][4] = 97.872\\n\\nThere are a few methods that will be useful for us from a dataframe: \\n 1) To get a basic view of our dataset we can use the dataframe\\'s .head(), .tail(), .shape(), .info(), .describe()\\n 2) Along with the .describe() method, dataframes also have individual statistical methods that can used: .mean(), .median(), .std(), .max(), .min(), .count()\\n'"
      ]
     },
     "execution_count": 3,
     "metadata": {},
     "output_type": "execute_result"
    }
   ],
   "source": [
    "# this cell holds any useful notes about pandas, matplotlib, and seaborn\n",
    "\n",
    "''' Pandas: first what is a dataframe? A dataframe is just another term for a dataset and it is the key word used in pandas. There is no distinguishing features to remember, nothing \"special\" -- (more technical def: it is a user defined data structure that is the foundation of the pandas library, used to represent datasets)\n",
    "\n",
    "You can access any individual piece of data in any row of your dataset. If you use a combination of square bracket notation (like what we used to access keys in a dictionary) and indexing (like when we are accessing data within a list). \n",
    "        Ex) sleep_data[\"t\"][4] = 97.872\n",
    "\n",
    "There are a few methods that will be useful for us from a dataframe: \n",
    " 1) To get a basic view of our dataset we can use the dataframe's .head(), .tail(), .shape(), .info(), .describe()\n",
    " 2) Along with the .describe() method, dataframes also have individual statistical methods that can used: .mean(), .median(), .std(), .max(), .min(), .count()\n",
    "'''\n",
    "\n",
    "# Panda's basic dataframe view examples\n",
    "\n",
    "# sleep_data.head()\n",
    "# sleep_data.tail()\n",
    "# sleep_data.shape\n",
    "# sleep_data.info()\n",
    "# sleep_data.describe()\n",
    "\n",
    "# Panda's Individual Stat Methods\n",
    "\n",
    "# sleep_data.mean()\n",
    "# sleep_data.median()\n",
    "# sleep_data.std()\n",
    "# sleep_data.max()\n",
    "# sleep_data.min()\n",
    "# sleep_data.count()"
   ]
  },
  {
   "cell_type": "markdown",
   "id": "594d312d",
   "metadata": {},
   "source": [
    "# Sleep Data Features Key\n",
    "\n",
    "sr = snoring rate - \n",
    "\n",
    "rr = respiration rate\n",
    "\n",
    "t = body temperature\n",
    "\n",
    "lm = limb movement\n",
    "\n",
    "bo = blood oxygen\n",
    "\n",
    "rem = eye movement\n",
    "\n",
    "sr.1 = sleeping hours\n",
    "\n",
    "hr = heart rate\n",
    "\n",
    "sl = stress level"
   ]
  },
  {
   "cell_type": "code",
   "execution_count": 4,
   "id": "987730d3",
   "metadata": {},
   "outputs": [],
   "source": [
    "# Step 2: We want to outline the questions we will be addressing through our data analysis"
   ]
  },
  {
   "cell_type": "markdown",
   "id": "44dfc276",
   "metadata": {},
   "source": [
    "No.| Prompt\n",
    "-|-\n",
    "1 | How do stress level impact sleeping hours? Is there a positive or negative correlation? Meaning, if my stress levels are high, do I sleep more or less?\n",
    "2 | Does a higher heart rate cause more limb and eye movement or do the movements cause the increase in heart rate?\n",
    "3 | How are snoring and respiration rates related, if at all? Do these features have any affect on blood oxygen levels?\n",
    "4 |"
   ]
  },
  {
   "cell_type": "code",
   "execution_count": 5,
   "id": "4166d919",
   "metadata": {
    "scrolled": false
   },
   "outputs": [
    {
     "data": {
      "text/plain": [
       "<AxesSubplot:>"
      ]
     },
     "execution_count": 5,
     "metadata": {},
     "output_type": "execute_result"
    },
    {
     "data": {
      "image/png": "[encoded data removed]",
      "text/plain": [
       "<Figure size 1440x720 with 2 Axes>"
      ]
     },
     "metadata": {
      "needs_background": "light"
     },
     "output_type": "display_data"
    }
   ],
   "source": [
    "correlation = sleep_data.corr()\n",
    "\n",
    "\n",
    "fig, ax = plt.subplots(figsize=(20,10))\n",
    "sns.heatmap(correlation, xticklabels=correlation.columns,yticklabels=correlation.columns, ax = ax)"
   ]
  },
  {
   "cell_type": "markdown",
   "id": "63671b45",
   "metadata": {},
   "source": [
    "We can see from the heat map there is a black box between our \"sr.1\" (sleeping hours) and our \"sl\" (stress levels). This initial plots suggest that as we accrue more stress we are more likely to sleep less."
   ]
  }
 ],
 "metadata": {
  "kernelspec": {
   "display_name": "Python 3 (ipykernel)",
   "language": "python",
   "name": "python3"
  },
  "language_info": {
   "codemirror_mode": {
    "name": "ipython",
    "version": 3
   },
   "file_extension": ".py",
   "mimetype": "text/x-python",
   "name": "python",
   "nbconvert_exporter": "python",
   "pygments_lexer": "ipython3",
   "version": "3.9.6"
  }
 },
 "nbformat": 4,
 "nbformat_minor": 5
}
