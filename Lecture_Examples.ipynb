{
 "cells": [
  {
   "cell_type": "code",
   "execution_count": 1,
   "id": "f35c0258",
   "metadata": {},
   "outputs": [],
   "source": [
    "import pandas as pd\n",
    "import random as r"
   ]
  },
  {
   "cell_type": "markdown",
   "id": "56218294",
   "metadata": {},
   "source": [
    "This file will house any examples that I want to show you all that is related to any of the lecture material\n",
    "\n",
    "Python Introduction Lecture\n",
    "- different data types and variable assignment: Numeric Types, Strings, Booleans, Lists, Dictionaries\n"
   ]
  },
  {
   "cell_type": "code",
   "execution_count": 2,
   "id": "a84ce59e",
   "metadata": {},
   "outputs": [],
   "source": [
    "'''\n",
    "Python Introduction Lecture\n",
    "\n",
    "'''\n",
    "\n",
    "# Sequence Type: List\n",
    "basketball_data = pd.read_csv(\"./data-analysis/all_seasons.csv\")\n",
    "heights = [height for height in basketball_data[\"player_height\"]] \n",
    "ages = [age for age in basketball_data[\"age\"]]\n",
    "draft_years = [year for year in basketball_data[\"draft_year\"]]\n",
    "players = [player for player in basketball_data[\"player_name\"]]\n",
    "\n",
    "# Numeric: Integers and Floats\n",
    "year = 1991 # integer/int\n",
    "height = 205.74 # float\n",
    "age = 35.0 # float\n",
    "\n",
    "# String\n",
    "name = 'Draymond Green'# string/str\n",
    "\n",
    "# Boolean\n",
    "truth = height <= year # true boolean/bool\n",
    "untrue = height == year # false boolean/bool\n",
    "\n",
    "# Mapping Type: Dictionary/dict\n",
    "drafted_players = {}\n",
    "\n",
    "i = 0\n",
    "while i < 10:\n",
    "    drafted_players[players[i]] = draft_years[i]\n",
    "    i += 1"
   ]
  },
  {
   "cell_type": "code",
   "execution_count": 3,
   "id": "b8e4f2cb",
   "metadata": {},
   "outputs": [
    {
     "data": {
      "text/plain": [
       "[22.0, 27.0, 30.0, 29.0, 22.0, 22.0, 36.0, 26.0, 33.0, 32.0]"
      ]
     },
     "execution_count": 3,
     "metadata": {},
     "output_type": "execute_result"
    }
   ],
   "source": [
    "ages[0:10] # here is what a list looks like"
   ]
  },
  {
   "cell_type": "code",
   "execution_count": 4,
   "id": "072508e1",
   "metadata": {},
   "outputs": [
    {
     "data": {
      "text/plain": [
       "{'Travis Knight': '1996',\n",
       " 'Matt Fish': '1992',\n",
       " 'Matt Bullard': 'Undrafted',\n",
       " 'Marty Conlon': 'Undrafted',\n",
       " 'Martin Muursepp': '1996',\n",
       " 'Martin Lewis': '1995',\n",
       " 'Mark West': '1983',\n",
       " 'Mark Strickland': 'Undrafted',\n",
       " 'Mark Price': '1986',\n",
       " 'Mark Jackson': '1987'}"
      ]
     },
     "execution_count": 4,
     "metadata": {},
     "output_type": "execute_result"
    }
   ],
   "source": [
    "drafted_players # here is what a dictionary looks like"
   ]
  },
  {
   "cell_type": "code",
   "execution_count": 18,
   "id": "d687c8f7",
   "metadata": {},
   "outputs": [
    {
     "name": "stdout",
     "output_type": "stream",
     "text": [
      "Doesnt teach\n"
     ]
    }
   ],
   "source": [
    "'''\n",
    "Python Operators Lecture\n",
    "\n",
    "'''\n",
    "\n",
    "# Arithmetic Operators\n",
    "\n",
    "add = 22 + 27\n",
    "string_add = \"Hello \" + \"my name is \" + \"henry\"\n",
    "multi = 30 * 29\n",
    "string_multi = \"Blah blah \" * 3\n",
    "minus = 22 - 27\n",
    "div = 30 / 29 \n",
    "mod = 22 % 27\n",
    "exp = 10 ** 5\n",
    "floor = 22 // 27\n",
    "\n",
    "# Comparison Operators\n",
    "\n",
    "equal = 22 == 27\n",
    "great = 22 > 27\n",
    "less = 22 < 27\n",
    "great_eq = 22 >= 27\n",
    "less_eq = 22 <= 27\n",
    "not_eq = 22 != 27\n",
    "\n",
    "# Logical Operatiors\n",
    "\n",
    "and_op = 22 == 27 and 22 > 27\n",
    "or_op = 22 < 27 or 22 > 27\n",
    "not_op = str(add) not in \"minus\" # can also be used with != (not equal)\n",
    "\n",
    "# Membership Operator\n",
    "\n",
    "in_op = \"H\" in \"Henry\"\n",
    "not_in = str(add) not in \"minus\"\n",
    "\n",
    "# Conditional Operators\n",
    "\n",
    "instructor = \"Lauren\"\n",
    "\n",
    "if instructor == 'Henry':\n",
    "  print(\"Slack henry\")\n",
    "elif instructor == \"Kiyomi\":\n",
    "  print(\"Slack Kiyomi\")\n",
    "else:\n",
    "  print(\"Doesnt teach\")"
   ]
  }
 ],
 "metadata": {
  "kernelspec": {
   "display_name": "Python 3 (ipykernel)",
   "language": "python",
   "name": "python3"
  },
  "language_info": {
   "codemirror_mode": {
    "name": "ipython",
    "version": 3
   },
   "file_extension": ".py",
   "mimetype": "text/x-python",
   "name": "python",
   "nbconvert_exporter": "python",
   "pygments_lexer": "ipython3",
   "version": "3.9.6"
  }
 },
 "nbformat": 4,
 "nbformat_minor": 5
}
